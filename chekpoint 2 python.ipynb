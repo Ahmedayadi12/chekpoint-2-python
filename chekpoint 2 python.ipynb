{
 "cells": [
  {
   "cell_type": "code",
   "execution_count": 3,
   "id": "d1f7c6d3",
   "metadata": {},
   "outputs": [
    {
     "name": "stdout",
     "output_type": "stream",
     "text": [
      "n=3\n",
      "t[ 1 ]=\n",
      "4\n",
      "t[ 2 ]=\n",
      "5\n",
      "t[ 3 ]=\n",
      "9\n",
      "résultat= 180\n"
     ]
    }
   ],
   "source": [
    "n=int(input(\"n=\"))\n",
    "t=[int]*n\n",
    "r=1\n",
    "for i in range (n):\n",
    "    print(\"t[\",i+1,\"]=\")\n",
    "    t[i]=int(input(\"\"))\n",
    "    r=r*t[i]\n",
    "print(\"résultat=\",r)"
   ]
  },
  {
   "cell_type": "code",
   "execution_count": 2,
   "id": "37049e4d",
   "metadata": {},
   "outputs": [
    {
     "name": "stdout",
     "output_type": "stream",
     "text": [
      "[(2, 1), (1, 2), (2, 3), (4, 4), (2, 5)]\n"
     ]
    }
   ],
   "source": [
    "t=[(2, 5), (1, 2), (4, 4), (2, 3), (2, 1)]\n",
    "for i in range(len(t)-1):\n",
    "    for j in range (len(t)-1):\n",
    "        if t[j][1]>t[j+1][1]:\n",
    "            t[j] , t[j+1]=t[j+1] , t[j]\n",
    "print(t)\n"
   ]
  },
  {
   "cell_type": "code",
   "execution_count": 4,
   "id": "1d6695a6",
   "metadata": {},
   "outputs": [
    {
     "name": "stdout",
     "output_type": "stream",
     "text": [
      "{'a': 400, 'b': 400, 'c': 300, 'd': 400}\n"
     ]
    }
   ],
   "source": [
    "d1 = {'a': 100, 'b': 200, 'c':300}\n",
    "d2 = {'a': 300, 'b': 200, 'd':400}\n",
    "d3={}\n",
    "for i in range (3):\n",
    "    s1=list(d1.keys())\n",
    "    s2=list(d2.keys())\n",
    "    if s1[i]==s2[i]:\n",
    "        a=list(d1.values())[i]+list(d2.values())[i]\n",
    "        d3[list(d1.keys())[i]]=a\n",
    "    else :\n",
    "        d3[list(d1.keys())[i]]=list(d1.values())[i]\n",
    "        d3[list(d2.keys())[i]]=list(d2.values())[i]\n",
    "print(d3)"
   ]
  },
  {
   "cell_type": "code",
   "execution_count": 5,
   "id": "92ef7030",
   "metadata": {},
   "outputs": [
    {
     "name": "stdout",
     "output_type": "stream",
     "text": [
      "n=8\n",
      "{1: 1, 2: 4, 3: 9, 4: 16, 5: 25, 6: 36, 7: 49, 8: 64}\n"
     ]
    }
   ],
   "source": [
    "n=int(input(\"n=\"))\n",
    "d={}\n",
    "for i in range (1,n+1):\n",
    "    d[i]=i*i\n",
    "print(d)\n",
    "    "
   ]
  },
  {
   "cell_type": "code",
   "execution_count": 36,
   "id": "c88dcbc5",
   "metadata": {},
   "outputs": [
    {
     "name": "stdout",
     "output_type": "stream",
     "text": [
      "[('item3', '24.5'), ('item2', '15.10'), ('item1', '12.20')]\n"
     ]
    }
   ],
   "source": [
    "def order(f):\n",
    "    return f\n",
    "\n",
    "L = [('item1', '12.20'), ('item2', '15.10'), ('item3', '24.5')]\n",
    "length = len(L)\n",
    "for i in L:\n",
    "  f = float(i[1])\n",
    "  \n",
    "  L.sort(key=order, reverse=True)\n",
    "print(L)"
   ]
  },
  {
   "cell_type": "code",
   "execution_count": null,
   "id": "977efc2b",
   "metadata": {},
   "outputs": [],
   "source": []
  }
 ],
 "metadata": {
  "kernelspec": {
   "display_name": "Python 3",
   "language": "python",
   "name": "python3"
  }
 },
 "nbformat": 4,
 "nbformat_minor": 5
}
